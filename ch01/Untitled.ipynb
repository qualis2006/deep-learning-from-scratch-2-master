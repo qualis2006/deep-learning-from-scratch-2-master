{
 "cells": [
  {
   "cell_type": "code",
   "execution_count": 21,
   "metadata": {},
   "outputs": [
    {
     "name": "stdout",
     "output_type": "stream",
     "text": [
      "| 에폭 1 |  반복 10 / 10 | 손실 1.13\n",
      "| 에폭 2 |  반복 10 / 10 | 손실 1.13\n",
      "| 에폭 3 |  반복 10 / 10 | 손실 1.12\n",
      "| 에폭 4 |  반복 10 / 10 | 손실 1.12\n",
      "| 에폭 5 |  반복 10 / 10 | 손실 1.11\n",
      "| 에폭 6 |  반복 10 / 10 | 손실 1.14\n",
      "| 에폭 7 |  반복 10 / 10 | 손실 1.16\n",
      "| 에폭 8 |  반복 10 / 10 | 손실 1.11\n",
      "| 에폭 9 |  반복 10 / 10 | 손실 1.12\n",
      "| 에폭 10 |  반복 10 / 10 | 손실 1.13\n",
      "| 에폭 11 |  반복 10 / 10 | 손실 1.12\n",
      "| 에폭 12 |  반복 10 / 10 | 손실 1.11\n",
      "| 에폭 13 |  반복 10 / 10 | 손실 1.09\n",
      "| 에폭 14 |  반복 10 / 10 | 손실 1.08\n",
      "| 에폭 15 |  반복 10 / 10 | 손실 1.04\n",
      "| 에폭 16 |  반복 10 / 10 | 손실 1.03\n",
      "| 에폭 17 |  반복 10 / 10 | 손실 0.96\n",
      "| 에폭 18 |  반복 10 / 10 | 손실 0.92\n",
      "| 에폭 19 |  반복 10 / 10 | 손실 0.92\n",
      "| 에폭 20 |  반복 10 / 10 | 손실 0.87\n",
      "| 에폭 21 |  반복 10 / 10 | 손실 0.85\n",
      "| 에폭 22 |  반복 10 / 10 | 손실 0.82\n",
      "| 에폭 23 |  반복 10 / 10 | 손실 0.79\n",
      "| 에폭 24 |  반복 10 / 10 | 손실 0.78\n",
      "| 에폭 25 |  반복 10 / 10 | 손실 0.82\n",
      "| 에폭 26 |  반복 10 / 10 | 손실 0.78\n",
      "| 에폭 27 |  반복 10 / 10 | 손실 0.76\n",
      "| 에폭 28 |  반복 10 / 10 | 손실 0.76\n",
      "| 에폭 29 |  반복 10 / 10 | 손실 0.78\n",
      "| 에폭 30 |  반복 10 / 10 | 손실 0.75\n",
      "| 에폭 31 |  반복 10 / 10 | 손실 0.78\n",
      "| 에폭 32 |  반복 10 / 10 | 손실 0.77\n",
      "| 에폭 33 |  반복 10 / 10 | 손실 0.77\n",
      "| 에폭 34 |  반복 10 / 10 | 손실 0.78\n",
      "| 에폭 35 |  반복 10 / 10 | 손실 0.75\n",
      "| 에폭 36 |  반복 10 / 10 | 손실 0.74\n",
      "| 에폭 37 |  반복 10 / 10 | 손실 0.76\n",
      "| 에폭 38 |  반복 10 / 10 | 손실 0.76\n",
      "| 에폭 39 |  반복 10 / 10 | 손실 0.73\n",
      "| 에폭 40 |  반복 10 / 10 | 손실 0.75\n",
      "| 에폭 41 |  반복 10 / 10 | 손실 0.76\n",
      "| 에폭 42 |  반복 10 / 10 | 손실 0.76\n",
      "| 에폭 43 |  반복 10 / 10 | 손실 0.76\n",
      "| 에폭 44 |  반복 10 / 10 | 손실 0.74\n",
      "| 에폭 45 |  반복 10 / 10 | 손실 0.75\n",
      "| 에폭 46 |  반복 10 / 10 | 손실 0.73\n",
      "| 에폭 47 |  반복 10 / 10 | 손실 0.72\n",
      "| 에폭 48 |  반복 10 / 10 | 손실 0.73\n",
      "| 에폭 49 |  반복 10 / 10 | 손실 0.72\n",
      "| 에폭 50 |  반복 10 / 10 | 손실 0.72\n",
      "| 에폭 51 |  반복 10 / 10 | 손실 0.72\n",
      "| 에폭 52 |  반복 10 / 10 | 손실 0.72\n",
      "| 에폭 53 |  반복 10 / 10 | 손실 0.74\n",
      "| 에폭 54 |  반복 10 / 10 | 손실 0.74\n",
      "| 에폭 55 |  반복 10 / 10 | 손실 0.72\n",
      "| 에폭 56 |  반복 10 / 10 | 손실 0.72\n",
      "| 에폭 57 |  반복 10 / 10 | 손실 0.71\n",
      "| 에폭 58 |  반복 10 / 10 | 손실 0.70\n",
      "| 에폭 59 |  반복 10 / 10 | 손실 0.72\n",
      "| 에폭 60 |  반복 10 / 10 | 손실 0.70\n",
      "| 에폭 61 |  반복 10 / 10 | 손실 0.71\n",
      "| 에폭 62 |  반복 10 / 10 | 손실 0.72\n",
      "| 에폭 63 |  반복 10 / 10 | 손실 0.70\n",
      "| 에폭 64 |  반복 10 / 10 | 손실 0.71\n",
      "| 에폭 65 |  반복 10 / 10 | 손실 0.73\n",
      "| 에폭 66 |  반복 10 / 10 | 손실 0.70\n",
      "| 에폭 67 |  반복 10 / 10 | 손실 0.71\n",
      "| 에폭 68 |  반복 10 / 10 | 손실 0.69\n",
      "| 에폭 69 |  반복 10 / 10 | 손실 0.70\n",
      "| 에폭 70 |  반복 10 / 10 | 손실 0.71\n",
      "| 에폭 71 |  반복 10 / 10 | 손실 0.68\n",
      "| 에폭 72 |  반복 10 / 10 | 손실 0.69\n",
      "| 에폭 73 |  반복 10 / 10 | 손실 0.67\n",
      "| 에폭 74 |  반복 10 / 10 | 손실 0.68\n",
      "| 에폭 75 |  반복 10 / 10 | 손실 0.67\n",
      "| 에폭 76 |  반복 10 / 10 | 손실 0.66\n",
      "| 에폭 77 |  반복 10 / 10 | 손실 0.69\n",
      "| 에폭 78 |  반복 10 / 10 | 손실 0.64\n",
      "| 에폭 79 |  반복 10 / 10 | 손실 0.68\n",
      "| 에폭 80 |  반복 10 / 10 | 손실 0.64\n",
      "| 에폭 81 |  반복 10 / 10 | 손실 0.64\n",
      "| 에폭 82 |  반복 10 / 10 | 손실 0.66\n",
      "| 에폭 83 |  반복 10 / 10 | 손실 0.62\n",
      "| 에폭 84 |  반복 10 / 10 | 손실 0.62\n",
      "| 에폭 85 |  반복 10 / 10 | 손실 0.61\n",
      "| 에폭 86 |  반복 10 / 10 | 손실 0.60\n",
      "| 에폭 87 |  반복 10 / 10 | 손실 0.60\n",
      "| 에폭 88 |  반복 10 / 10 | 손실 0.61\n",
      "| 에폭 89 |  반복 10 / 10 | 손실 0.59\n",
      "| 에폭 90 |  반복 10 / 10 | 손실 0.58\n",
      "| 에폭 91 |  반복 10 / 10 | 손실 0.56\n",
      "| 에폭 92 |  반복 10 / 10 | 손실 0.56\n",
      "| 에폭 93 |  반복 10 / 10 | 손실 0.54\n",
      "| 에폭 94 |  반복 10 / 10 | 손실 0.53\n",
      "| 에폭 95 |  반복 10 / 10 | 손실 0.53\n",
      "| 에폭 96 |  반복 10 / 10 | 손실 0.52\n",
      "| 에폭 97 |  반복 10 / 10 | 손실 0.51\n",
      "| 에폭 98 |  반복 10 / 10 | 손실 0.50\n",
      "| 에폭 99 |  반복 10 / 10 | 손실 0.48\n",
      "| 에폭 100 |  반복 10 / 10 | 손실 0.48\n",
      "| 에폭 101 |  반복 10 / 10 | 손실 0.46\n",
      "| 에폭 102 |  반복 10 / 10 | 손실 0.45\n",
      "| 에폭 103 |  반복 10 / 10 | 손실 0.45\n",
      "| 에폭 104 |  반복 10 / 10 | 손실 0.44\n",
      "| 에폭 105 |  반복 10 / 10 | 손실 0.44\n",
      "| 에폭 106 |  반복 10 / 10 | 손실 0.41\n",
      "| 에폭 107 |  반복 10 / 10 | 손실 0.40\n",
      "| 에폭 108 |  반복 10 / 10 | 손실 0.41\n",
      "| 에폭 109 |  반복 10 / 10 | 손실 0.40\n",
      "| 에폭 110 |  반복 10 / 10 | 손실 0.40\n",
      "| 에폭 111 |  반복 10 / 10 | 손실 0.38\n",
      "| 에폭 112 |  반복 10 / 10 | 손실 0.38\n",
      "| 에폭 113 |  반복 10 / 10 | 손실 0.36\n",
      "| 에폭 114 |  반복 10 / 10 | 손실 0.37\n",
      "| 에폭 115 |  반복 10 / 10 | 손실 0.35\n",
      "| 에폭 116 |  반복 10 / 10 | 손실 0.34\n",
      "| 에폭 117 |  반복 10 / 10 | 손실 0.34\n",
      "| 에폭 118 |  반복 10 / 10 | 손실 0.34\n",
      "| 에폭 119 |  반복 10 / 10 | 손실 0.33\n",
      "| 에폭 120 |  반복 10 / 10 | 손실 0.34\n",
      "| 에폭 121 |  반복 10 / 10 | 손실 0.32\n",
      "| 에폭 122 |  반복 10 / 10 | 손실 0.32\n",
      "| 에폭 123 |  반복 10 / 10 | 손실 0.31\n",
      "| 에폭 124 |  반복 10 / 10 | 손실 0.31\n",
      "| 에폭 125 |  반복 10 / 10 | 손실 0.30\n",
      "| 에폭 126 |  반복 10 / 10 | 손실 0.30\n",
      "| 에폭 127 |  반복 10 / 10 | 손실 0.28\n",
      "| 에폭 128 |  반복 10 / 10 | 손실 0.28\n",
      "| 에폭 129 |  반복 10 / 10 | 손실 0.28\n",
      "| 에폭 130 |  반복 10 / 10 | 손실 0.28\n",
      "| 에폭 131 |  반복 10 / 10 | 손실 0.27\n",
      "| 에폭 132 |  반복 10 / 10 | 손실 0.27\n",
      "| 에폭 133 |  반복 10 / 10 | 손실 0.27\n",
      "| 에폭 134 |  반복 10 / 10 | 손실 0.27\n",
      "| 에폭 135 |  반복 10 / 10 | 손실 0.27\n",
      "| 에폭 136 |  반복 10 / 10 | 손실 0.26\n",
      "| 에폭 137 |  반복 10 / 10 | 손실 0.26\n",
      "| 에폭 138 |  반복 10 / 10 | 손실 0.26\n",
      "| 에폭 139 |  반복 10 / 10 | 손실 0.25\n",
      "| 에폭 140 |  반복 10 / 10 | 손실 0.24\n",
      "| 에폭 141 |  반복 10 / 10 | 손실 0.24\n",
      "| 에폭 142 |  반복 10 / 10 | 손실 0.25\n",
      "| 에폭 143 |  반복 10 / 10 | 손실 0.24\n",
      "| 에폭 144 |  반복 10 / 10 | 손실 0.24\n",
      "| 에폭 145 |  반복 10 / 10 | 손실 0.23\n",
      "| 에폭 146 |  반복 10 / 10 | 손실 0.24\n",
      "| 에폭 147 |  반복 10 / 10 | 손실 0.23\n",
      "| 에폭 148 |  반복 10 / 10 | 손실 0.23\n",
      "| 에폭 149 |  반복 10 / 10 | 손실 0.22\n",
      "| 에폭 150 |  반복 10 / 10 | 손실 0.22\n",
      "| 에폭 151 |  반복 10 / 10 | 손실 0.22\n",
      "| 에폭 152 |  반복 10 / 10 | 손실 0.22\n",
      "| 에폭 153 |  반복 10 / 10 | 손실 0.22\n",
      "| 에폭 154 |  반복 10 / 10 | 손실 0.22\n",
      "| 에폭 155 |  반복 10 / 10 | 손실 0.22\n",
      "| 에폭 156 |  반복 10 / 10 | 손실 0.21\n",
      "| 에폭 157 |  반복 10 / 10 | 손실 0.21\n",
      "| 에폭 158 |  반복 10 / 10 | 손실 0.20\n",
      "| 에폭 159 |  반복 10 / 10 | 손실 0.21\n",
      "| 에폭 160 |  반복 10 / 10 | 손실 0.20\n",
      "| 에폭 161 |  반복 10 / 10 | 손실 0.20\n",
      "| 에폭 162 |  반복 10 / 10 | 손실 0.20\n",
      "| 에폭 163 |  반복 10 / 10 | 손실 0.21\n",
      "| 에폭 164 |  반복 10 / 10 | 손실 0.20\n",
      "| 에폭 165 |  반복 10 / 10 | 손실 0.20\n",
      "| 에폭 166 |  반복 10 / 10 | 손실 0.19\n",
      "| 에폭 167 |  반복 10 / 10 | 손실 0.19\n",
      "| 에폭 168 |  반복 10 / 10 | 손실 0.19\n",
      "| 에폭 169 |  반복 10 / 10 | 손실 0.19\n",
      "| 에폭 170 |  반복 10 / 10 | 손실 0.19\n",
      "| 에폭 171 |  반복 10 / 10 | 손실 0.19\n",
      "| 에폭 172 |  반복 10 / 10 | 손실 0.18\n",
      "| 에폭 173 |  반복 10 / 10 | 손실 0.18\n",
      "| 에폭 174 |  반복 10 / 10 | 손실 0.18\n",
      "| 에폭 175 |  반복 10 / 10 | 손실 0.18\n",
      "| 에폭 176 |  반복 10 / 10 | 손실 0.18\n",
      "| 에폭 177 |  반복 10 / 10 | 손실 0.18\n",
      "| 에폭 178 |  반복 10 / 10 | 손실 0.18\n",
      "| 에폭 179 |  반복 10 / 10 | 손실 0.17\n",
      "| 에폭 180 |  반복 10 / 10 | 손실 0.17\n",
      "| 에폭 181 |  반복 10 / 10 | 손실 0.18\n",
      "| 에폭 182 |  반복 10 / 10 | 손실 0.17\n",
      "| 에폭 183 |  반복 10 / 10 | 손실 0.18\n",
      "| 에폭 184 |  반복 10 / 10 | 손실 0.17\n",
      "| 에폭 185 |  반복 10 / 10 | 손실 0.17\n",
      "| 에폭 186 |  반복 10 / 10 | 손실 0.18\n",
      "| 에폭 187 |  반복 10 / 10 | 손실 0.17\n",
      "| 에폭 188 |  반복 10 / 10 | 손실 0.17\n",
      "| 에폭 189 |  반복 10 / 10 | 손실 0.17\n",
      "| 에폭 190 |  반복 10 / 10 | 손실 0.17\n",
      "| 에폭 191 |  반복 10 / 10 | 손실 0.16\n",
      "| 에폭 192 |  반복 10 / 10 | 손실 0.17\n",
      "| 에폭 193 |  반복 10 / 10 | 손실 0.16\n",
      "| 에폭 194 |  반복 10 / 10 | 손실 0.16\n",
      "| 에폭 195 |  반복 10 / 10 | 손실 0.16\n",
      "| 에폭 196 |  반복 10 / 10 | 손실 0.16\n",
      "| 에폭 197 |  반복 10 / 10 | 손실 0.16\n",
      "| 에폭 198 |  반복 10 / 10 | 손실 0.15\n",
      "| 에폭 199 |  반복 10 / 10 | 손실 0.16\n",
      "| 에폭 200 |  반복 10 / 10 | 손실 0.16\n",
      "| 에폭 201 |  반복 10 / 10 | 손실 0.15\n",
      "| 에폭 202 |  반복 10 / 10 | 손실 0.16\n",
      "| 에폭 203 |  반복 10 / 10 | 손실 0.16\n",
      "| 에폭 204 |  반복 10 / 10 | 손실 0.15\n",
      "| 에폭 205 |  반복 10 / 10 | 손실 0.16\n",
      "| 에폭 206 |  반복 10 / 10 | 손실 0.15\n",
      "| 에폭 207 |  반복 10 / 10 | 손실 0.15\n",
      "| 에폭 208 |  반복 10 / 10 | 손실 0.15\n",
      "| 에폭 209 |  반복 10 / 10 | 손실 0.15\n",
      "| 에폭 210 |  반복 10 / 10 | 손실 0.15\n",
      "| 에폭 211 |  반복 10 / 10 | 손실 0.15\n",
      "| 에폭 212 |  반복 10 / 10 | 손실 0.15\n",
      "| 에폭 213 |  반복 10 / 10 | 손실 0.15\n",
      "| 에폭 214 |  반복 10 / 10 | 손실 0.15\n",
      "| 에폭 215 |  반복 10 / 10 | 손실 0.15\n",
      "| 에폭 216 |  반복 10 / 10 | 손실 0.14\n",
      "| 에폭 217 |  반복 10 / 10 | 손실 0.14\n",
      "| 에폭 218 |  반복 10 / 10 | 손실 0.15\n",
      "| 에폭 219 |  반복 10 / 10 | 손실 0.14\n",
      "| 에폭 220 |  반복 10 / 10 | 손실 0.14\n",
      "| 에폭 221 |  반복 10 / 10 | 손실 0.14\n",
      "| 에폭 222 |  반복 10 / 10 | 손실 0.14\n",
      "| 에폭 223 |  반복 10 / 10 | 손실 0.14\n",
      "| 에폭 224 |  반복 10 / 10 | 손실 0.14\n",
      "| 에폭 225 |  반복 10 / 10 | 손실 0.14\n",
      "| 에폭 226 |  반복 10 / 10 | 손실 0.14\n",
      "| 에폭 227 |  반복 10 / 10 | 손실 0.14\n",
      "| 에폭 228 |  반복 10 / 10 | 손실 0.14\n",
      "| 에폭 229 |  반복 10 / 10 | 손실 0.13\n",
      "| 에폭 230 |  반복 10 / 10 | 손실 0.14\n",
      "| 에폭 231 |  반복 10 / 10 | 손실 0.13\n",
      "| 에폭 232 |  반복 10 / 10 | 손실 0.14\n",
      "| 에폭 233 |  반복 10 / 10 | 손실 0.13\n",
      "| 에폭 234 |  반복 10 / 10 | 손실 0.13\n",
      "| 에폭 235 |  반복 10 / 10 | 손실 0.13\n",
      "| 에폭 236 |  반복 10 / 10 | 손실 0.13\n",
      "| 에폭 237 |  반복 10 / 10 | 손실 0.14\n",
      "| 에폭 238 |  반복 10 / 10 | 손실 0.13\n",
      "| 에폭 239 |  반복 10 / 10 | 손실 0.13\n",
      "| 에폭 240 |  반복 10 / 10 | 손실 0.14\n",
      "| 에폭 241 |  반복 10 / 10 | 손실 0.13\n",
      "| 에폭 242 |  반복 10 / 10 | 손실 0.13\n",
      "| 에폭 243 |  반복 10 / 10 | 손실 0.13\n",
      "| 에폭 244 |  반복 10 / 10 | 손실 0.13\n",
      "| 에폭 245 |  반복 10 / 10 | 손실 0.13\n",
      "| 에폭 246 |  반복 10 / 10 | 손실 0.13\n",
      "| 에폭 247 |  반복 10 / 10 | 손실 0.13\n",
      "| 에폭 248 |  반복 10 / 10 | 손실 0.13\n",
      "| 에폭 249 |  반복 10 / 10 | 손실 0.13\n",
      "| 에폭 250 |  반복 10 / 10 | 손실 0.13\n",
      "| 에폭 251 |  반복 10 / 10 | 손실 0.13\n",
      "| 에폭 252 |  반복 10 / 10 | 손실 0.12\n",
      "| 에폭 253 |  반복 10 / 10 | 손실 0.12\n",
      "| 에폭 254 |  반복 10 / 10 | 손실 0.12\n",
      "| 에폭 255 |  반복 10 / 10 | 손실 0.12\n",
      "| 에폭 256 |  반복 10 / 10 | 손실 0.12\n",
      "| 에폭 257 |  반복 10 / 10 | 손실 0.12\n",
      "| 에폭 258 |  반복 10 / 10 | 손실 0.12\n",
      "| 에폭 259 |  반복 10 / 10 | 손실 0.13\n",
      "| 에폭 260 |  반복 10 / 10 | 손실 0.12\n",
      "| 에폭 261 |  반복 10 / 10 | 손실 0.13\n",
      "| 에폭 262 |  반복 10 / 10 | 손실 0.12\n",
      "| 에폭 263 |  반복 10 / 10 | 손실 0.12\n",
      "| 에폭 264 |  반복 10 / 10 | 손실 0.13\n",
      "| 에폭 265 |  반복 10 / 10 | 손실 0.12\n",
      "| 에폭 266 |  반복 10 / 10 | 손실 0.12\n",
      "| 에폭 267 |  반복 10 / 10 | 손실 0.12\n",
      "| 에폭 268 |  반복 10 / 10 | 손실 0.12\n",
      "| 에폭 269 |  반복 10 / 10 | 손실 0.11\n",
      "| 에폭 270 |  반복 10 / 10 | 손실 0.12\n",
      "| 에폭 271 |  반복 10 / 10 | 손실 0.12\n",
      "| 에폭 272 |  반복 10 / 10 | 손실 0.12\n",
      "| 에폭 273 |  반복 10 / 10 | 손실 0.12\n",
      "| 에폭 274 |  반복 10 / 10 | 손실 0.12\n",
      "| 에폭 275 |  반복 10 / 10 | 손실 0.11\n",
      "| 에폭 276 |  반복 10 / 10 | 손실 0.12\n",
      "| 에폭 277 |  반복 10 / 10 | 손실 0.12\n",
      "| 에폭 278 |  반복 10 / 10 | 손실 0.11\n",
      "| 에폭 279 |  반복 10 / 10 | 손실 0.11\n",
      "| 에폭 280 |  반복 10 / 10 | 손실 0.11\n",
      "| 에폭 281 |  반복 10 / 10 | 손실 0.11\n",
      "| 에폭 282 |  반복 10 / 10 | 손실 0.12\n",
      "| 에폭 283 |  반복 10 / 10 | 손실 0.11\n",
      "| 에폭 284 |  반복 10 / 10 | 손실 0.11\n",
      "| 에폭 285 |  반복 10 / 10 | 손실 0.11\n",
      "| 에폭 286 |  반복 10 / 10 | 손실 0.11\n",
      "| 에폭 287 |  반복 10 / 10 | 손실 0.11\n",
      "| 에폭 288 |  반복 10 / 10 | 손실 0.12\n",
      "| 에폭 289 |  반복 10 / 10 | 손실 0.11\n",
      "| 에폭 290 |  반복 10 / 10 | 손실 0.11\n",
      "| 에폭 291 |  반복 10 / 10 | 손실 0.11\n",
      "| 에폭 292 |  반복 10 / 10 | 손실 0.11\n",
      "| 에폭 293 |  반복 10 / 10 | 손실 0.11\n",
      "| 에폭 294 |  반복 10 / 10 | 손실 0.11\n",
      "| 에폭 295 |  반복 10 / 10 | 손실 0.12\n",
      "| 에폭 296 |  반복 10 / 10 | 손실 0.11\n",
      "| 에폭 297 |  반복 10 / 10 | 손실 0.12\n",
      "| 에폭 298 |  반복 10 / 10 | 손실 0.11\n",
      "| 에폭 299 |  반복 10 / 10 | 손실 0.11\n",
      "| 에폭 300 |  반복 10 / 10 | 손실 0.11\n"
     ]
    },
    {
     "data": {
      "image/png": "[encoded data removed]",
      "text/plain": [
       "<Figure size 432x288 with 1 Axes>"
      ]
     },
     "metadata": {
      "needs_background": "light"
     },
     "output_type": "display_data"
    },
    {
     "data": {
      "image/png": "[encoded data removed]",
      "text/plain": [
       "<Figure size 432x288 with 1 Axes>"
      ]
     },
     "metadata": {
      "needs_background": "light"
     },
     "output_type": "display_data"
    }
   ],
   "source": [
    "# coding: utf-8\n",
    "import sys\n",
    "sys.path.append('..')  # 부모 디렉터리의 파일을 가져올 수 있도록 설정\n",
    "import numpy as np\n",
    "from common.optimizer import SGD\n",
    "from dataset import spiral\n",
    "import matplotlib.pyplot as plt\n",
    "from two_layer_net import TwoLayerNet\n",
    "\n",
    "\n",
    "# 하이퍼파라미터 설정\n",
    "max_epoch = 300\n",
    "batch_size = 30\n",
    "hidden_size = 10\n",
    "learning_rate = 1.0\n",
    "\n",
    "# 데이터 읽기, 모델과 옵티마이저 생성\n",
    "x, t = spiral.load_data()\n",
    "model = TwoLayerNet(input_size=2, hidden_size=hidden_size, output_size=3)\n",
    "optimizer = SGD(lr=learning_rate)\n",
    "\n",
    "# 학습에 사용하는 변수\n",
    "data_size = len(x)\n",
    "max_iters = data_size // batch_size\n",
    "total_loss = 0\n",
    "loss_count = 0\n",
    "loss_list = []\n",
    "\n",
    "for epoch in range(max_epoch):\n",
    "    # 데이터 뒤섞기\n",
    "    idx = np.random.permutation(data_size)\n",
    "    x = x[idx]\n",
    "    t = t[idx]\n",
    "\n",
    "    for iters in range(max_iters):\n",
    "        batch_x = x[iters*batch_size:(iters+1)*batch_size]\n",
    "        batch_t = t[iters*batch_size:(iters+1)*batch_size]\n",
    "\n",
    "        # 기울기를 구해 매개변수 갱신\n",
    "        loss = model.forward(batch_x, batch_t)\n",
    "        model.backward()\n",
    "        optimizer.update(model.params, model.grads)\n",
    "\n",
    "        total_loss += loss\n",
    "        loss_count += 1\n",
    "\n",
    "        # 정기적으로 학습 경과 출력\n",
    "        if (iters+1) % 10 == 0:\n",
    "            avg_loss = total_loss / loss_count\n",
    "            print('| 에폭 %d |  반복 %d / %d | 손실 %.2f'\n",
    "                  % (epoch + 1, iters + 1, max_iters, avg_loss))\n",
    "            loss_list.append(avg_loss)\n",
    "            total_loss, loss_count = 0, 0\n",
    "\n",
    "\n",
    "# 학습 결과 플롯\n",
    "plt.plot(np.arange(len(loss_list)), loss_list, label='train')\n",
    "plt.xlabel('iteration (x10)')\n",
    "plt.ylabel('loss')\n",
    "plt.legend()\n",
    "plt.show()\n",
    "\n",
    "# 경계 영역 플롯\n",
    "h = 0.001\n",
    "x_min, x_max = x[:, 0].min() - .1, x[:, 0].max() + .1\n",
    "y_min, y_max = x[:, 1].min() - .1, x[:, 1].max() + .1\n",
    "xx, yy = np.meshgrid(np.arange(x_min, x_max, h), np.arange(y_min, y_max, h))\n",
    "X = np.c_[xx.ravel(), yy.ravel()]\n",
    "score = model.predict(X)\n",
    "predict_cls = np.argmax(score, axis=1)\n",
    "Z = predict_cls.reshape(xx.shape)\n",
    "plt.contourf(xx, yy, Z)\n",
    "plt.axis('off')\n",
    "\n",
    "# 데이터점 플롯\n",
    "x, t = spiral.load_data()\n",
    "N = 100\n",
    "CLS_NUM = 3\n",
    "markers = ['o', 'x', '^']\n",
    "for i in range(CLS_NUM):\n",
    "    plt.scatter(x[i*N:(i+1)*N, 0], x[i*N:(i+1)*N, 1], s=40, marker=markers[i])\n",
    "plt.show()\n"
   ]
  },
  {
   "cell_type": "code",
   "execution_count": 22,
   "metadata": {},
   "outputs": [
    {
     "name": "stdout",
     "output_type": "stream",
     "text": [
      "| 에폭 1 |  반복 10 / 10 | 손실 1.19\n",
      "| 에폭 2 |  반복 10 / 10 | 손실 1.17\n",
      "| 에폭 3 |  반복 10 / 10 | 손실 1.14\n",
      "| 에폭 4 |  반복 10 / 10 | 손실 1.16\n",
      "| 에폭 5 |  반복 10 / 10 | 손실 1.17\n",
      "| 에폭 6 |  반복 10 / 10 | 손실 1.18\n",
      "| 에폭 7 |  반복 10 / 10 | 손실 1.14\n",
      "| 에폭 8 |  반복 10 / 10 | 손실 1.10\n",
      "| 에폭 9 |  반복 10 / 10 | 손실 1.13\n",
      "| 에폭 10 |  반복 10 / 10 | 손실 1.19\n",
      "| 에폭 11 |  반복 10 / 10 | 손실 1.10\n",
      "| 에폭 12 |  반복 10 / 10 | 손실 1.10\n",
      "| 에폭 13 |  반복 10 / 10 | 손실 1.08\n",
      "| 에폭 14 |  반복 10 / 10 | 손실 0.98\n",
      "| 에폭 15 |  반복 10 / 10 | 손실 0.95\n",
      "| 에폭 16 |  반복 10 / 10 | 손실 0.89\n",
      "| 에폭 17 |  반복 10 / 10 | 손실 0.89\n",
      "| 에폭 18 |  반복 10 / 10 | 손실 0.85\n",
      "| 에폭 19 |  반복 10 / 10 | 손실 0.85\n",
      "| 에폭 20 |  반복 10 / 10 | 손실 0.80\n",
      "| 에폭 21 |  반복 10 / 10 | 손실 0.81\n",
      "| 에폭 22 |  반복 10 / 10 | 손실 0.79\n",
      "| 에폭 23 |  반복 10 / 10 | 손실 0.78\n",
      "| 에폭 24 |  반복 10 / 10 | 손실 0.75\n",
      "| 에폭 25 |  반복 10 / 10 | 손실 0.76\n",
      "| 에폭 26 |  반복 10 / 10 | 손실 0.75\n",
      "| 에폭 27 |  반복 10 / 10 | 손실 0.78\n",
      "| 에폭 28 |  반복 10 / 10 | 손실 0.76\n",
      "| 에폭 29 |  반복 10 / 10 | 손실 0.75\n",
      "| 에폭 30 |  반복 10 / 10 | 손실 0.74\n",
      "| 에폭 31 |  반복 10 / 10 | 손실 0.75\n",
      "| 에폭 32 |  반복 10 / 10 | 손실 0.75\n",
      "| 에폭 33 |  반복 10 / 10 | 손실 0.73\n",
      "| 에폭 34 |  반복 10 / 10 | 손실 0.75\n",
      "| 에폭 35 |  반복 10 / 10 | 손실 0.73\n",
      "| 에폭 36 |  반복 10 / 10 | 손실 0.75\n",
      "| 에폭 37 |  반복 10 / 10 | 손실 0.73\n",
      "| 에폭 38 |  반복 10 / 10 | 손실 0.73\n",
      "| 에폭 39 |  반복 10 / 10 | 손실 0.73\n",
      "| 에폭 40 |  반복 10 / 10 | 손실 0.73\n",
      "| 에폭 41 |  반복 10 / 10 | 손실 0.74\n",
      "| 에폭 42 |  반복 10 / 10 | 손실 0.74\n",
      "| 에폭 43 |  반복 10 / 10 | 손실 0.73\n",
      "| 에폭 44 |  반복 10 / 10 | 손실 0.76\n",
      "| 에폭 45 |  반복 10 / 10 | 손실 0.73\n",
      "| 에폭 46 |  반복 10 / 10 | 손실 0.72\n",
      "| 에폭 47 |  반복 10 / 10 | 손실 0.74\n",
      "| 에폭 48 |  반복 10 / 10 | 손실 0.73\n",
      "| 에폭 49 |  반복 10 / 10 | 손실 0.71\n",
      "| 에폭 50 |  반복 10 / 10 | 손실 0.73\n",
      "| 에폭 51 |  반복 10 / 10 | 손실 0.72\n",
      "| 에폭 52 |  반복 10 / 10 | 손실 0.71\n",
      "| 에폭 53 |  반복 10 / 10 | 손실 0.70\n",
      "| 에폭 54 |  반복 10 / 10 | 손실 0.72\n",
      "| 에폭 55 |  반복 10 / 10 | 손실 0.71\n",
      "| 에폭 56 |  반복 10 / 10 | 손실 0.71\n",
      "| 에폭 57 |  반복 10 / 10 | 손실 0.72\n",
      "| 에폭 58 |  반복 10 / 10 | 손실 0.72\n",
      "| 에폭 59 |  반복 10 / 10 | 손실 0.70\n",
      "| 에폭 60 |  반복 10 / 10 | 손실 0.71\n",
      "| 에폭 61 |  반복 10 / 10 | 손실 0.73\n",
      "| 에폭 62 |  반복 10 / 10 | 손실 0.70\n",
      "| 에폭 63 |  반복 10 / 10 | 손실 0.70\n",
      "| 에폭 64 |  반복 10 / 10 | 손실 0.71\n",
      "| 에폭 65 |  반복 10 / 10 | 손실 0.69\n",
      "| 에폭 66 |  반복 10 / 10 | 손실 0.70\n",
      "| 에폭 67 |  반복 10 / 10 | 손실 0.70\n",
      "| 에폭 68 |  반복 10 / 10 | 손실 0.68\n",
      "| 에폭 69 |  반복 10 / 10 | 손실 0.70\n",
      "| 에폭 70 |  반복 10 / 10 | 손실 0.68\n",
      "| 에폭 71 |  반복 10 / 10 | 손실 0.70\n",
      "| 에폭 72 |  반복 10 / 10 | 손실 0.68\n",
      "| 에폭 73 |  반복 10 / 10 | 손실 0.69\n",
      "| 에폭 74 |  반복 10 / 10 | 손실 0.67\n",
      "| 에폭 75 |  반복 10 / 10 | 손실 0.66\n",
      "| 에폭 76 |  반복 10 / 10 | 손실 0.66\n",
      "| 에폭 77 |  반복 10 / 10 | 손실 0.67\n",
      "| 에폭 78 |  반복 10 / 10 | 손실 0.65\n",
      "| 에폭 79 |  반복 10 / 10 | 손실 0.64\n",
      "| 에폭 80 |  반복 10 / 10 | 손실 0.66\n",
      "| 에폭 81 |  반복 10 / 10 | 손실 0.63\n",
      "| 에폭 82 |  반복 10 / 10 | 손실 0.64\n",
      "| 에폭 83 |  반복 10 / 10 | 손실 0.64\n",
      "| 에폭 84 |  반복 10 / 10 | 손실 0.63\n",
      "| 에폭 85 |  반복 10 / 10 | 손실 0.61\n",
      "| 에폭 86 |  반복 10 / 10 | 손실 0.60\n",
      "| 에폭 87 |  반복 10 / 10 | 손실 0.60\n",
      "| 에폭 88 |  반복 10 / 10 | 손실 0.60\n",
      "| 에폭 89 |  반복 10 / 10 | 손실 0.58\n",
      "| 에폭 90 |  반복 10 / 10 | 손실 0.57\n",
      "| 에폭 91 |  반복 10 / 10 | 손실 0.56\n",
      "| 에폭 92 |  반복 10 / 10 | 손실 0.56\n",
      "| 에폭 93 |  반복 10 / 10 | 손실 0.54\n",
      "| 에폭 94 |  반복 10 / 10 | 손실 0.53\n",
      "| 에폭 95 |  반복 10 / 10 | 손실 0.53\n",
      "| 에폭 96 |  반복 10 / 10 | 손실 0.52\n",
      "| 에폭 97 |  반복 10 / 10 | 손실 0.51\n",
      "| 에폭 98 |  반복 10 / 10 | 손실 0.49\n",
      "| 에폭 99 |  반복 10 / 10 | 손실 0.48\n",
      "| 에폭 100 |  반복 10 / 10 | 손실 0.50\n",
      "| 에폭 101 |  반복 10 / 10 | 손실 0.48\n",
      "| 에폭 102 |  반복 10 / 10 | 손실 0.46\n",
      "| 에폭 103 |  반복 10 / 10 | 손실 0.45\n",
      "| 에폭 104 |  반복 10 / 10 | 손실 0.45\n",
      "| 에폭 105 |  반복 10 / 10 | 손실 0.44\n",
      "| 에폭 106 |  반복 10 / 10 | 손실 0.43\n",
      "| 에폭 107 |  반복 10 / 10 | 손실 0.42\n",
      "| 에폭 108 |  반복 10 / 10 | 손실 0.41\n",
      "| 에폭 109 |  반복 10 / 10 | 손실 0.41\n",
      "| 에폭 110 |  반복 10 / 10 | 손실 0.39\n",
      "| 에폭 111 |  반복 10 / 10 | 손실 0.39\n",
      "| 에폭 112 |  반복 10 / 10 | 손실 0.38\n",
      "| 에폭 113 |  반복 10 / 10 | 손실 0.37\n",
      "| 에폭 114 |  반복 10 / 10 | 손실 0.36\n",
      "| 에폭 115 |  반복 10 / 10 | 손실 0.36\n",
      "| 에폭 116 |  반복 10 / 10 | 손실 0.36\n",
      "| 에폭 117 |  반복 10 / 10 | 손실 0.37\n",
      "| 에폭 118 |  반복 10 / 10 | 손실 0.35\n",
      "| 에폭 119 |  반복 10 / 10 | 손실 0.34\n",
      "| 에폭 120 |  반복 10 / 10 | 손실 0.33\n",
      "| 에폭 121 |  반복 10 / 10 | 손실 0.33\n",
      "| 에폭 122 |  반복 10 / 10 | 손실 0.32\n",
      "| 에폭 123 |  반복 10 / 10 | 손실 0.32\n",
      "| 에폭 124 |  반복 10 / 10 | 손실 0.31\n",
      "| 에폭 125 |  반복 10 / 10 | 손실 0.32\n",
      "| 에폭 126 |  반복 10 / 10 | 손실 0.31\n",
      "| 에폭 127 |  반복 10 / 10 | 손실 0.31\n",
      "| 에폭 128 |  반복 10 / 10 | 손실 0.29\n",
      "| 에폭 129 |  반복 10 / 10 | 손실 0.29\n",
      "| 에폭 130 |  반복 10 / 10 | 손실 0.28\n",
      "| 에폭 131 |  반복 10 / 10 | 손실 0.28\n",
      "| 에폭 132 |  반복 10 / 10 | 손실 0.28\n",
      "| 에폭 133 |  반복 10 / 10 | 손실 0.28\n",
      "| 에폭 134 |  반복 10 / 10 | 손실 0.27\n",
      "| 에폭 135 |  반복 10 / 10 | 손실 0.27\n",
      "| 에폭 136 |  반복 10 / 10 | 손실 0.27\n",
      "| 에폭 137 |  반복 10 / 10 | 손실 0.26\n",
      "| 에폭 138 |  반복 10 / 10 | 손실 0.26\n",
      "| 에폭 139 |  반복 10 / 10 | 손실 0.25\n",
      "| 에폭 140 |  반복 10 / 10 | 손실 0.25\n",
      "| 에폭 141 |  반복 10 / 10 | 손실 0.25\n",
      "| 에폭 142 |  반복 10 / 10 | 손실 0.26\n",
      "| 에폭 143 |  반복 10 / 10 | 손실 0.25\n",
      "| 에폭 144 |  반복 10 / 10 | 손실 0.25\n",
      "| 에폭 145 |  반복 10 / 10 | 손실 0.24\n",
      "| 에폭 146 |  반복 10 / 10 | 손실 0.23\n",
      "| 에폭 147 |  반복 10 / 10 | 손실 0.24\n",
      "| 에폭 148 |  반복 10 / 10 | 손실 0.23\n",
      "| 에폭 149 |  반복 10 / 10 | 손실 0.23\n",
      "| 에폭 150 |  반복 10 / 10 | 손실 0.24\n",
      "| 에폭 151 |  반복 10 / 10 | 손실 0.22\n",
      "| 에폭 152 |  반복 10 / 10 | 손실 0.22\n",
      "| 에폭 153 |  반복 10 / 10 | 손실 0.22\n",
      "| 에폭 154 |  반복 10 / 10 | 손실 0.23\n",
      "| 에폭 155 |  반복 10 / 10 | 손실 0.22\n",
      "| 에폭 156 |  반복 10 / 10 | 손실 0.22\n",
      "| 에폭 157 |  반복 10 / 10 | 손실 0.22\n",
      "| 에폭 158 |  반복 10 / 10 | 손실 0.22\n",
      "| 에폭 159 |  반복 10 / 10 | 손실 0.21\n",
      "| 에폭 160 |  반복 10 / 10 | 손실 0.21\n",
      "| 에폭 161 |  반복 10 / 10 | 손실 0.21\n",
      "| 에폭 162 |  반복 10 / 10 | 손실 0.20\n",
      "| 에폭 163 |  반복 10 / 10 | 손실 0.21\n",
      "| 에폭 164 |  반복 10 / 10 | 손실 0.20\n",
      "| 에폭 165 |  반복 10 / 10 | 손실 0.21\n",
      "| 에폭 166 |  반복 10 / 10 | 손실 0.21\n",
      "| 에폭 167 |  반복 10 / 10 | 손실 0.20\n",
      "| 에폭 168 |  반복 10 / 10 | 손실 0.20\n",
      "| 에폭 169 |  반복 10 / 10 | 손실 0.20\n",
      "| 에폭 170 |  반복 10 / 10 | 손실 0.19\n",
      "| 에폭 171 |  반복 10 / 10 | 손실 0.20\n",
      "| 에폭 172 |  반복 10 / 10 | 손실 0.20\n",
      "| 에폭 173 |  반복 10 / 10 | 손실 0.19\n",
      "| 에폭 174 |  반복 10 / 10 | 손실 0.20\n",
      "| 에폭 175 |  반복 10 / 10 | 손실 0.19\n",
      "| 에폭 176 |  반복 10 / 10 | 손실 0.20\n",
      "| 에폭 177 |  반복 10 / 10 | 손실 0.19\n",
      "| 에폭 178 |  반복 10 / 10 | 손실 0.19\n",
      "| 에폭 179 |  반복 10 / 10 | 손실 0.18\n",
      "| 에폭 180 |  반복 10 / 10 | 손실 0.18\n",
      "| 에폭 181 |  반복 10 / 10 | 손실 0.18\n",
      "| 에폭 182 |  반복 10 / 10 | 손실 0.18\n",
      "| 에폭 183 |  반복 10 / 10 | 손실 0.18\n",
      "| 에폭 184 |  반복 10 / 10 | 손실 0.17\n",
      "| 에폭 185 |  반복 10 / 10 | 손실 0.18\n",
      "| 에폭 186 |  반복 10 / 10 | 손실 0.18\n",
      "| 에폭 187 |  반복 10 / 10 | 손실 0.17\n",
      "| 에폭 188 |  반복 10 / 10 | 손실 0.17\n",
      "| 에폭 189 |  반복 10 / 10 | 손실 0.17\n",
      "| 에폭 190 |  반복 10 / 10 | 손실 0.17\n",
      "| 에폭 191 |  반복 10 / 10 | 손실 0.16\n",
      "| 에폭 192 |  반복 10 / 10 | 손실 0.18\n",
      "| 에폭 193 |  반복 10 / 10 | 손실 0.17\n",
      "| 에폭 194 |  반복 10 / 10 | 손실 0.17\n",
      "| 에폭 195 |  반복 10 / 10 | 손실 0.17\n",
      "| 에폭 196 |  반복 10 / 10 | 손실 0.17\n",
      "| 에폭 197 |  반복 10 / 10 | 손실 0.17\n",
      "| 에폭 198 |  반복 10 / 10 | 손실 0.17\n",
      "| 에폭 199 |  반복 10 / 10 | 손실 0.17\n",
      "| 에폭 200 |  반복 10 / 10 | 손실 0.17\n",
      "| 에폭 201 |  반복 10 / 10 | 손실 0.16\n",
      "| 에폭 202 |  반복 10 / 10 | 손실 0.17\n",
      "| 에폭 203 |  반복 10 / 10 | 손실 0.16\n",
      "| 에폭 204 |  반복 10 / 10 | 손실 0.16\n",
      "| 에폭 205 |  반복 10 / 10 | 손실 0.16\n",
      "| 에폭 206 |  반복 10 / 10 | 손실 0.16\n",
      "| 에폭 207 |  반복 10 / 10 | 손실 0.16\n",
      "| 에폭 208 |  반복 10 / 10 | 손실 0.15\n",
      "| 에폭 209 |  반복 10 / 10 | 손실 0.15\n",
      "| 에폭 210 |  반복 10 / 10 | 손실 0.15\n",
      "| 에폭 211 |  반복 10 / 10 | 손실 0.15\n",
      "| 에폭 212 |  반복 10 / 10 | 손실 0.15\n",
      "| 에폭 213 |  반복 10 / 10 | 손실 0.16\n",
      "| 에폭 214 |  반복 10 / 10 | 손실 0.17\n",
      "| 에폭 215 |  반복 10 / 10 | 손실 0.15\n",
      "| 에폭 216 |  반복 10 / 10 | 손실 0.15\n",
      "| 에폭 217 |  반복 10 / 10 | 손실 0.16\n",
      "| 에폭 218 |  반복 10 / 10 | 손실 0.15\n",
      "| 에폭 219 |  반복 10 / 10 | 손실 0.15\n",
      "| 에폭 220 |  반복 10 / 10 | 손실 0.14\n",
      "| 에폭 221 |  반복 10 / 10 | 손실 0.14\n",
      "| 에폭 222 |  반복 10 / 10 | 손실 0.15\n",
      "| 에폭 223 |  반복 10 / 10 | 손실 0.15\n",
      "| 에폭 224 |  반복 10 / 10 | 손실 0.15\n",
      "| 에폭 225 |  반복 10 / 10 | 손실 0.15\n",
      "| 에폭 226 |  반복 10 / 10 | 손실 0.14\n",
      "| 에폭 227 |  반복 10 / 10 | 손실 0.14\n",
      "| 에폭 228 |  반복 10 / 10 | 손실 0.15\n",
      "| 에폭 229 |  반복 10 / 10 | 손실 0.14\n",
      "| 에폭 230 |  반복 10 / 10 | 손실 0.15\n",
      "| 에폭 231 |  반복 10 / 10 | 손실 0.14\n",
      "| 에폭 232 |  반복 10 / 10 | 손실 0.14\n",
      "| 에폭 233 |  반복 10 / 10 | 손실 0.15\n",
      "| 에폭 234 |  반복 10 / 10 | 손실 0.14\n",
      "| 에폭 235 |  반복 10 / 10 | 손실 0.15\n",
      "| 에폭 236 |  반복 10 / 10 | 손실 0.14\n",
      "| 에폭 237 |  반복 10 / 10 | 손실 0.14\n",
      "| 에폭 238 |  반복 10 / 10 | 손실 0.14\n",
      "| 에폭 239 |  반복 10 / 10 | 손실 0.14\n",
      "| 에폭 240 |  반복 10 / 10 | 손실 0.14\n",
      "| 에폭 241 |  반복 10 / 10 | 손실 0.14\n",
      "| 에폭 242 |  반복 10 / 10 | 손실 0.14\n",
      "| 에폭 243 |  반복 10 / 10 | 손실 0.13\n",
      "| 에폭 244 |  반복 10 / 10 | 손실 0.14\n",
      "| 에폭 245 |  반복 10 / 10 | 손실 0.13\n",
      "| 에폭 246 |  반복 10 / 10 | 손실 0.13\n",
      "| 에폭 247 |  반복 10 / 10 | 손실 0.13\n",
      "| 에폭 248 |  반복 10 / 10 | 손실 0.13\n",
      "| 에폭 249 |  반복 10 / 10 | 손실 0.13\n",
      "| 에폭 250 |  반복 10 / 10 | 손실 0.13\n",
      "| 에폭 251 |  반복 10 / 10 | 손실 0.13\n",
      "| 에폭 252 |  반복 10 / 10 | 손실 0.13\n",
      "| 에폭 253 |  반복 10 / 10 | 손실 0.13\n",
      "| 에폭 254 |  반복 10 / 10 | 손실 0.13\n",
      "| 에폭 255 |  반복 10 / 10 | 손실 0.13\n",
      "| 에폭 256 |  반복 10 / 10 | 손실 0.13\n",
      "| 에폭 257 |  반복 10 / 10 | 손실 0.14\n",
      "| 에폭 258 |  반복 10 / 10 | 손실 0.13\n",
      "| 에폭 259 |  반복 10 / 10 | 손실 0.14\n",
      "| 에폭 260 |  반복 10 / 10 | 손실 0.14\n",
      "| 에폭 261 |  반복 10 / 10 | 손실 0.13\n",
      "| 에폭 262 |  반복 10 / 10 | 손실 0.13\n",
      "| 에폭 263 |  반복 10 / 10 | 손실 0.13\n",
      "| 에폭 264 |  반복 10 / 10 | 손실 0.13\n",
      "| 에폭 265 |  반복 10 / 10 | 손실 0.12\n",
      "| 에폭 266 |  반복 10 / 10 | 손실 0.13\n",
      "| 에폭 267 |  반복 10 / 10 | 손실 0.12\n",
      "| 에폭 268 |  반복 10 / 10 | 손실 0.13\n",
      "| 에폭 269 |  반복 10 / 10 | 손실 0.12\n",
      "| 에폭 270 |  반복 10 / 10 | 손실 0.12\n",
      "| 에폭 271 |  반복 10 / 10 | 손실 0.12\n",
      "| 에폭 272 |  반복 10 / 10 | 손실 0.12\n",
      "| 에폭 273 |  반복 10 / 10 | 손실 0.12\n",
      "| 에폭 274 |  반복 10 / 10 | 손실 0.13\n",
      "| 에폭 275 |  반복 10 / 10 | 손실 0.12\n",
      "| 에폭 276 |  반복 10 / 10 | 손실 0.12\n",
      "| 에폭 277 |  반복 10 / 10 | 손실 0.12\n",
      "| 에폭 278 |  반복 10 / 10 | 손실 0.12\n",
      "| 에폭 279 |  반복 10 / 10 | 손실 0.12\n",
      "| 에폭 280 |  반복 10 / 10 | 손실 0.12\n",
      "| 에폭 281 |  반복 10 / 10 | 손실 0.12\n",
      "| 에폭 282 |  반복 10 / 10 | 손실 0.12\n",
      "| 에폭 283 |  반복 10 / 10 | 손실 0.12\n",
      "| 에폭 284 |  반복 10 / 10 | 손실 0.11\n",
      "| 에폭 285 |  반복 10 / 10 | 손실 0.12\n",
      "| 에폭 286 |  반복 10 / 10 | 손실 0.12\n",
      "| 에폭 287 |  반복 10 / 10 | 손실 0.12\n",
      "| 에폭 288 |  반복 10 / 10 | 손실 0.11\n",
      "| 에폭 289 |  반복 10 / 10 | 손실 0.12\n",
      "| 에폭 290 |  반복 10 / 10 | 손실 0.12\n",
      "| 에폭 291 |  반복 10 / 10 | 손실 0.12\n",
      "| 에폭 292 |  반복 10 / 10 | 손실 0.12\n",
      "| 에폭 293 |  반복 10 / 10 | 손실 0.12\n",
      "| 에폭 294 |  반복 10 / 10 | 손실 0.12\n",
      "| 에폭 295 |  반복 10 / 10 | 손실 0.12\n",
      "| 에폭 296 |  반복 10 / 10 | 손실 0.12\n",
      "| 에폭 297 |  반복 10 / 10 | 손실 0.11\n",
      "| 에폭 298 |  반복 10 / 10 | 손실 0.11\n",
      "| 에폭 299 |  반복 10 / 10 | 손실 0.11\n",
      "| 에폭 300 |  반복 10 / 10 | 손실 0.11\n"
     ]
    },
    {
     "data": {
      "image/png": "[encoded data removed]",
      "text/plain": [
       "<Figure size 432x288 with 1 Axes>"
      ]
     },
     "metadata": {
      "needs_background": "light"
     },
     "output_type": "display_data"
    },
    {
     "data": {
      "image/png": "[encoded data removed]",
      "text/plain": [
       "<Figure size 432x288 with 1 Axes>"
      ]
     },
     "metadata": {
      "needs_background": "light"
     },
     "output_type": "display_data"
    }
   ],
   "source": [
    "# coding: utf-8\n",
    "import sys\n",
    "sys.path.append('..')  # 부모 디렉터리의 파일을 가져올 수 있도록 설정\n",
    "import numpy as np\n",
    "from common.optimizer import SGD\n",
    "from dataset import spiral\n",
    "import matplotlib.pyplot as plt\n",
    "from two_layer_net import TwoLayerNet\n",
    "\n",
    "\n",
    "# 하이퍼파라미터 설정\n",
    "max_epoch = 300\n",
    "batch_size = 30\n",
    "hidden_size = 15\n",
    "learning_rate = 1.0\n",
    "\n",
    "# 데이터 읽기, 모델과 옵티마이저 생성\n",
    "x, t = spiral.load_data()\n",
    "model = TwoLayerNet(input_size=2, hidden_size=hidden_size, output_size=3)\n",
    "optimizer = SGD(lr=learning_rate)\n",
    "\n",
    "# 학습에 사용하는 변수\n",
    "data_size = len(x)\n",
    "max_iters = data_size // batch_size\n",
    "total_loss = 0\n",
    "loss_count = 0\n",
    "loss_list = []\n",
    "\n",
    "for epoch in range(max_epoch):\n",
    "    # 데이터 뒤섞기\n",
    "    idx = np.random.permutation(data_size)\n",
    "    x = x[idx]\n",
    "    t = t[idx]\n",
    "\n",
    "    for iters in range(max_iters):\n",
    "        batch_x = x[iters*batch_size:(iters+1)*batch_size]\n",
    "        batch_t = t[iters*batch_size:(iters+1)*batch_size]\n",
    "\n",
    "        # 기울기를 구해 매개변수 갱신\n",
    "        loss = model.forward(batch_x, batch_t)\n",
    "        model.backward()\n",
    "        optimizer.update(model.params, model.grads)\n",
    "\n",
    "        total_loss += loss\n",
    "        loss_count += 1\n",
    "\n",
    "        # 정기적으로 학습 경과 출력\n",
    "        if (iters+1) % 10 == 0:\n",
    "            avg_loss = total_loss / loss_count\n",
    "            print('| 에폭 %d |  반복 %d / %d | 손실 %.2f'\n",
    "                  % (epoch + 1, iters + 1, max_iters, avg_loss))\n",
    "            loss_list.append(avg_loss)\n",
    "            total_loss, loss_count = 0, 0\n",
    "\n",
    "\n",
    "# 학습 결과 플롯\n",
    "plt.plot(np.arange(len(loss_list)), loss_list, label='train')\n",
    "plt.xlabel('iteration (x10)')\n",
    "plt.ylabel('loss')\n",
    "plt.legend()\n",
    "plt.show()\n",
    "\n",
    "# 경계 영역 플롯\n",
    "h = 0.001\n",
    "x_min, x_max = x[:, 0].min() - .1, x[:, 0].max() + .1\n",
    "y_min, y_max = x[:, 1].min() - .1, x[:, 1].max() + .1\n",
    "xx, yy = np.meshgrid(np.arange(x_min, x_max, h), np.arange(y_min, y_max, h))\n",
    "X = np.c_[xx.ravel(), yy.ravel()]\n",
    "score = model.predict(X)\n",
    "predict_cls = np.argmax(score, axis=1)\n",
    "Z = predict_cls.reshape(xx.shape)\n",
    "plt.contourf(xx, yy, Z)\n",
    "plt.axis('off')\n",
    "\n",
    "# 데이터점 플롯\n",
    "x, t = spiral.load_data()\n",
    "N = 100\n",
    "CLS_NUM = 3\n",
    "markers = ['o', 'x', '^']\n",
    "for i in range(CLS_NUM):\n",
    "    plt.scatter(x[i*N:(i+1)*N, 0], x[i*N:(i+1)*N, 1], s=40, marker=markers[i])\n",
    "plt.show()\n"
   ]
  },
  {
   "cell_type": "code",
   "execution_count": 2,
   "metadata": {},
   "outputs": [
    {
     "data": {
      "text/plain": [
       "array([[-1.0223507, -1.0213507, -1.0203507, ...,  1.0866493,  1.0876493,\n",
       "         1.0886493],\n",
       "       [-1.0223507, -1.0213507, -1.0203507, ...,  1.0866493,  1.0876493,\n",
       "         1.0886493],\n",
       "       [-1.0223507, -1.0213507, -1.0203507, ...,  1.0866493,  1.0876493,\n",
       "         1.0886493],\n",
       "       ...,\n",
       "       [-1.0223507, -1.0213507, -1.0203507, ...,  1.0866493,  1.0876493,\n",
       "         1.0886493],\n",
       "       [-1.0223507, -1.0213507, -1.0203507, ...,  1.0866493,  1.0876493,\n",
       "         1.0886493],\n",
       "       [-1.0223507, -1.0213507, -1.0203507, ...,  1.0866493,  1.0876493,\n",
       "         1.0886493]])"
      ]
     },
     "execution_count": 2,
     "metadata": {},
     "output_type": "execute_result"
    }
   ],
   "source": [
    "xx"
   ]
  },
  {
   "cell_type": "code",
   "execution_count": 3,
   "metadata": {},
   "outputs": [
    {
     "data": {
      "text/plain": [
       "<matplotlib.collections.PathCollection at 0x20216b4cd30>"
      ]
     },
     "execution_count": 3,
     "metadata": {},
     "output_type": "execute_result"
    },
    {
     "data": {
      "image/png": "[encoded data removed]",
      "text/plain": [
       "<Figure size 432x288 with 1 Axes>"
      ]
     },
     "metadata": {
      "needs_background": "light"
     },
     "output_type": "display_data"
    }
   ],
   "source": [
    "plt.scatter(x[:,0], x[:,1])"
   ]
  },
  {
   "cell_type": "code",
   "execution_count": 4,
   "metadata": {},
   "outputs": [
    {
     "data": {
      "text/plain": [
       "array([-1.0223507, -1.0213507, -1.0203507, ...,  1.0866493,  1.0876493,\n",
       "        1.0886493])"
      ]
     },
     "execution_count": 4,
     "metadata": {},
     "output_type": "execute_result"
    }
   ],
   "source": [
    "xx.ravel()"
   ]
  },
  {
   "cell_type": "code",
   "execution_count": 5,
   "metadata": {},
   "outputs": [
    {
     "data": {
      "text/plain": [
       "(4323264,)"
      ]
     },
     "execution_count": 5,
     "metadata": {},
     "output_type": "execute_result"
    }
   ],
   "source": [
    "xx.ravel().shape"
   ]
  },
  {
   "cell_type": "code",
   "execution_count": 6,
   "metadata": {},
   "outputs": [
    {
     "data": {
      "text/plain": [
       "(2047, 2112)"
      ]
     },
     "execution_count": 6,
     "metadata": {},
     "output_type": "execute_result"
    }
   ],
   "source": [
    "xx.shape"
   ]
  },
  {
   "cell_type": "code",
   "execution_count": 7,
   "metadata": {},
   "outputs": [
    {
     "data": {
      "text/plain": [
       "(2047, 2112)"
      ]
     },
     "execution_count": 7,
     "metadata": {},
     "output_type": "execute_result"
    }
   ],
   "source": [
    "yy.shape"
   ]
  },
  {
   "cell_type": "code",
   "execution_count": 8,
   "metadata": {},
   "outputs": [
    {
     "data": {
      "text/plain": [
       "(-1.0223506996640548, -0.9886726617070215)"
      ]
     },
     "execution_count": 8,
     "metadata": {},
     "output_type": "execute_result"
    }
   ],
   "source": [
    "x_min, y_min"
   ]
  },
  {
   "cell_type": "code",
   "execution_count": 9,
   "metadata": {},
   "outputs": [
    {
     "data": {
      "text/plain": [
       "(1.0889954428950932, 1.0580883414647684)"
      ]
     },
     "execution_count": 9,
     "metadata": {},
     "output_type": "execute_result"
    }
   ],
   "source": [
    "x_max, y_max"
   ]
  },
  {
   "cell_type": "code",
   "execution_count": 10,
   "metadata": {},
   "outputs": [
    {
     "data": {
      "text/plain": [
       "(2.1113461425591478, 2.04676100317179)"
      ]
     },
     "execution_count": 10,
     "metadata": {},
     "output_type": "execute_result"
    }
   ],
   "source": [
    "x_max-x_min, y_max-y_min"
   ]
  },
  {
   "cell_type": "code",
   "execution_count": 11,
   "metadata": {},
   "outputs": [
    {
     "data": {
      "text/plain": [
       "array([[ 7.0750414 , -6.07991423, -1.0589919 ],\n",
       "       [ 7.07900866, -6.07605854, -1.06679914],\n",
       "       [ 7.08296037, -6.07223889, -1.07455478],\n",
       "       ...,\n",
       "       [-0.21141344,  5.13294553, -4.89219269],\n",
       "       [-0.21039943,  5.13274253, -4.89299605],\n",
       "       [-0.20938711,  5.13254678, -4.89380497]])"
      ]
     },
     "execution_count": 11,
     "metadata": {},
     "output_type": "execute_result"
    }
   ],
   "source": [
    "score"
   ]
  },
  {
   "cell_type": "code",
   "execution_count": 12,
   "metadata": {},
   "outputs": [
    {
     "data": {
      "text/plain": [
       "array([0, 0, 0, ..., 1, 1, 1], dtype=int64)"
      ]
     },
     "execution_count": 12,
     "metadata": {},
     "output_type": "execute_result"
    }
   ],
   "source": [
    "predict_cls"
   ]
  },
  {
   "cell_type": "code",
   "execution_count": 14,
   "metadata": {},
   "outputs": [
    {
     "data": {
      "text/plain": [
       "(4323264,)"
      ]
     },
     "execution_count": 14,
     "metadata": {},
     "output_type": "execute_result"
    }
   ],
   "source": [
    "predict_cls.shape"
   ]
  },
  {
   "cell_type": "code",
   "execution_count": 15,
   "metadata": {},
   "outputs": [
    {
     "data": {
      "text/plain": [
       "array([[0, 0, 0, ..., 0, 0, 0],\n",
       "       [0, 0, 0, ..., 0, 0, 0],\n",
       "       [0, 0, 0, ..., 0, 0, 0],\n",
       "       ...,\n",
       "       [2, 2, 2, ..., 1, 1, 1],\n",
       "       [2, 2, 2, ..., 1, 1, 1],\n",
       "       [2, 2, 2, ..., 1, 1, 1]], dtype=int64)"
      ]
     },
     "execution_count": 15,
     "metadata": {},
     "output_type": "execute_result"
    }
   ],
   "source": [
    "Z"
   ]
  },
  {
   "cell_type": "code",
   "execution_count": 19,
   "metadata": {},
   "outputs": [
    {
     "data": {
      "text/plain": [
       "(2047, 2112)"
      ]
     },
     "execution_count": 19,
     "metadata": {},
     "output_type": "execute_result"
    }
   ],
   "source": [
    "Z.shape"
   ]
  },
  {
   "cell_type": "code",
   "execution_count": 18,
   "metadata": {},
   "outputs": [
    {
     "data": {
      "image/png": "[encoded data removed]",
      "text/plain": [
       "<Figure size 432x288 with 1 Axes>"
      ]
     },
     "metadata": {
      "needs_background": "light"
     },
     "output_type": "display_data"
    }
   ],
   "source": [
    "plt.contour(xx, yy, Z)\n",
    "plt.contourf(xx, yy,Z)\n",
    "plt.show()"
   ]
  },
  {
   "cell_type": "code",
   "execution_count": null,
   "metadata": {},
   "outputs": [],
   "source": []
  }
 ],
 "metadata": {
  "kernelspec": {
   "display_name": "Python 3",
   "language": "python",
   "name": "python3"
  },
  "language_info": {
   "codemirror_mode": {
    "name": "ipython",
    "version": 3
   },
   "file_extension": ".py",
   "mimetype": "text/x-python",
   "name": "python",
   "nbconvert_exporter": "python",
   "pygments_lexer": "ipython3",
   "version": "3.8.5"
  }
 },
 "nbformat": 4,
 "nbformat_minor": 4
}
